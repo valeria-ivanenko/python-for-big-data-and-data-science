{
  "cells": [
    {
      "cell_type": "markdown",
      "metadata": {
        "id": "5qV_sehzFCTp"
      },
      "source": [
        "# I. OOP"
      ]
    },
    {
      "cell_type": "markdown",
      "metadata": {
        "id": "tx_U_hOALyfg"
      },
      "source": [
        "1. (6б). Створіть клас Animal, додайте три атрибути, один з яких має значення за замовчуванням та два методи на свій розсуд."
      ]
    },
    {
      "cell_type": "code",
      "execution_count": 8,
      "metadata": {
        "id": "-Vf895KaL88N"
      },
      "outputs": [],
      "source": [
        "class Animal:\n",
        "    def __init__(self, name, species, age=0):\n",
        "        self.name = name\n",
        "        self.species = species\n",
        "        self.age = age\n",
        "\n",
        "    def describe(self):\n",
        "        return f\"This is a {self.species} named {self.name} that is {self.age} years old.\"\n",
        "\n",
        "    def change_age(self, new_age):\n",
        "        self.age = new_age"
      ]
    },
    {
      "cell_type": "markdown",
      "metadata": {
        "id": "X_UlOMB0L93w"
      },
      "source": [
        "2. (2б). Створіть два обʼєкти цього класу, де один з обʼєктів створюється із дефолтним значенням атрибуту. На одному обʼєкті отримайте значення його атрибуту, а на іншому викличте один з його методів."
      ]
    },
    {
      "cell_type": "code",
      "execution_count": 12,
      "metadata": {
        "id": "7gBu0ESOMCpG"
      },
      "outputs": [
        {
          "name": "stdout",
          "output_type": "stream",
          "text": [
            "Cat's age: 0\n",
            "Mouse's description: This is a mouse named Jerry that is 5 years old.\n"
          ]
        }
      ],
      "source": [
        "cat = Animal(\"Tom\", \"cat\")\n",
        "mouse = Animal(\"Jerry\", \"mouse\", 5)\n",
        "\n",
        "cat_age = cat.age\n",
        "mouse_description = mouse.describe()\n",
        "\n",
        "print(f\"Cat's age: {cat_age}\")\n",
        "print(f\"Mouse's description: {mouse_description}\")"
      ]
    },
    {
      "cell_type": "markdown",
      "metadata": {
        "id": "HoqSCZt1MHn5"
      },
      "source": [
        "3. (5б). Створіть клас, де атрибути мають різні рівні доступу. Спробуйте отримати їхні значення та опишіть результати."
      ]
    },
    {
      "cell_type": "code",
      "execution_count": 47,
      "metadata": {
        "id": "r9b3vJxBMSPV"
      },
      "outputs": [
        {
          "name": "stdout",
          "output_type": "stream",
          "text": [
            "'Person' object has no attribute '__gender'\n",
            "Age: 21\n",
            "Name: Lera\n",
            "gender: Female\n"
          ]
        }
      ],
      "source": [
        "class Person:\n",
        "    def __init__(self, name, age, gender):\n",
        "        self.name = name  \n",
        "        self._age = age\n",
        "        self.__gender = gender\n",
        "\n",
        "    def get_gender(self):\n",
        "        return self.__gender\n",
        "\n",
        "person = Person(\"Lera\", 21, \"Female\")\n",
        "\n",
        "person_name = person.name\n",
        "person_age = person._age\n",
        "\n",
        "try:\n",
        "    person_gender = person.__gender\n",
        "except AttributeError as e:\n",
        "    print(e)\n",
        "\n",
        "person_gender = person.get_gender()\n",
        "\n",
        "print(f\"Age: {person_age}\")\n",
        "print(f\"Name: {person_name}\")\n",
        "print(f\"gender: {person_gender}\")\n",
        "\n",
        "# Як бачимо, ми можемо доступитись до змінної name (без андерскору) та до age (з одним андерскором).\n",
        "# Твердження person_gender = person.__gender викличе помилку AttributeError і для того, щоб отримати значення зі змінної, оголошеної з __ потрібно написати геттер."
      ]
    },
    {
      "cell_type": "markdown",
      "metadata": {
        "id": "5op2m2vgMSkZ"
      },
      "source": [
        "4. (7б). Як ви розумієте термін self? Для чого використовується метод __init __?"
      ]
    },
    {
      "cell_type": "markdown",
      "metadata": {
        "id": "DyiPqNRvMasx"
      },
      "source": [
        "self - це ключове слово, яке використовується в методах класів Python. Воно посилається на екземпляр класу, для якого викликається метод. Це дає методу доступ до атрибутів та методів екземпляра.\n",
        "__init__ - це спеціальний метод, який викликається при створенні нового екземпляра класу. Він використовується для ініціалізації атрибутів екземпляра. Це конструктор класу Python."
      ]
    },
    {
      "cell_type": "markdown",
      "metadata": {
        "id": "-6X8EGfjMd2y"
      },
      "source": [
        "5. (9б). Створіть клас Фігура без атрибутів, з методом get_area для отримання площі фігури, що повертає 0 та __add __, який приймає self та other в якості аргументів, а повертає суму площин фігур self та other."
      ]
    },
    {
      "cell_type": "code",
      "execution_count": 37,
      "metadata": {
        "id": "4rvO_wYUMaEr"
      },
      "outputs": [],
      "source": [
        "class Figure:\n",
        "    def __init__(self):\n",
        "        pass\n",
        "\n",
        "    def get_area(self):\n",
        "        return 0\n",
        "\n",
        "    def __add__(self, other):\n",
        "        return self.get_area() + other.get_area()"
      ]
    },
    {
      "cell_type": "markdown",
      "metadata": {
        "id": "SFcKnnv5Mo_z"
      },
      "source": [
        "6. (11б). Створіть 2 дочірніх класи від Фігури: Трикутник та Коло, які мають атрибути, необхідні для розрахунку площин. Визначте метод get_area в кожному з них так, щоби вони розраховували площу в залежності від формули для кожного типу фігури. Створіть обʼєкт класу Трикутник та обʼєкт класу Коло. Виконайте операцію суми за допомогою оператора + між ними."
      ]
    },
    {
      "cell_type": "code",
      "execution_count": 38,
      "metadata": {
        "id": "H3GVNr69Muf3"
      },
      "outputs": [
        {
          "name": "stdout",
          "output_type": "stream",
          "text": [
            "Triangle's area: 6.0\n",
            "Circle's area : 78.53981633974483\n",
            "Total area: 84.53981633974483\n"
          ]
        }
      ],
      "source": [
        "from math import pi\n",
        "\n",
        "class Triangle(Figure):\n",
        "    def __init__(self, base, height):\n",
        "        super().__init__()\n",
        "        self.base = base\n",
        "        self.height = height\n",
        "\n",
        "    def get_area(self):\n",
        "        return 0.5 * self.base * self.height\n",
        "\n",
        "\n",
        "class Circle(Figure):\n",
        "    def __init__(self, radius):\n",
        "        super().__init__()\n",
        "        self.radius = radius\n",
        "\n",
        "    def get_area(self):\n",
        "        return pi * self.radius ** 2\n",
        "\n",
        "\n",
        "triangle = Triangle(3, 4)\n",
        "circle = Circle(5)\n",
        "\n",
        "triangle_area = triangle.get_area()\n",
        "circle_area = circle.get_area()\n",
        "\n",
        "total_area = triangle + circle\n",
        "\n",
        "print(f\"Triangle's area: {triangle_area}\")\n",
        "print(f\"Circle's area : {circle_area}\")\n",
        "print(f\"Total area: {total_area}\")"
      ]
    },
    {
      "cell_type": "markdown",
      "metadata": {
        "id": "HCvR206YMvLK"
      },
      "source": [
        "7. (3б). Продемонструйте різницю між isinstance та issubclass."
      ]
    },
    {
      "cell_type": "code",
      "execution_count": 42,
      "metadata": {
        "id": "L_V1bBvDM0GN"
      },
      "outputs": [
        {
          "name": "stdout",
          "output_type": "stream",
          "text": [
            "True\n",
            "True\n",
            "True\n",
            "False\n",
            "True\n",
            "True\n",
            "True\n",
            "False\n"
          ]
        }
      ],
      "source": [
        "class Animal:\n",
        "    pass\n",
        "\n",
        "class Cat(Animal):\n",
        "    pass\n",
        "\n",
        "class Mouse(Animal):\n",
        "    pass\n",
        "\n",
        "cat = Cat()\n",
        "mouse = Mouse()\n",
        "\n",
        "print(isinstance(cat, Animal))  # True\n",
        "print(isinstance(mouse, Animal))  # True\n",
        "print(isinstance(cat, Cat))  # True\n",
        "print(isinstance(mouse, Cat))  # False\n",
        "\n",
        "print(issubclass(Cat, Animal))  # True\n",
        "print(issubclass(Mouse, Animal))  # True\n",
        "print(issubclass(Cat, Cat))  # True\n",
        "print(issubclass(Mouse, Cat))  # False\n",
        "\n",
        "# isinstance перевіряє, чи є об'єкт екземпляром класу або одного з його підкласів.\n",
        "# issubclass перевіряє, чи є клас підкласом іншого класу."
      ]
    },
    {
      "cell_type": "markdown",
      "metadata": {
        "id": "jjsaBZ-iM0Qq"
      },
      "source": [
        "8. (13б). Створіть клас BankAccount з приватними атрибутами balance та account_number. Реалізуйте методи поповнення та зняття коштів, забезпечивши належну інкапсуляцію. Підказка: використовуйте декоратори property та setter."
      ]
    },
    {
      "cell_type": "code",
      "execution_count": 48,
      "metadata": {
        "id": "xCvZ7lh8M7YA"
      },
      "outputs": [
        {
          "name": "stdout",
          "output_type": "stream",
          "text": [
            "Current balance: 1000\n",
            "Balance after deposit: 1500\n",
            "Balance after withdrawal: 1200\n",
            "Insufficient funds\n",
            "Account number: UA1234567890\n",
            "Balance: 1200\n"
          ]
        }
      ],
      "source": [
        "class BankAccount:\n",
        "    def __init__(self, account_number, initial_balance=0):\n",
        "        self._balance = initial_balance\n",
        "        self._account_number = account_number\n",
        "\n",
        "    @property\n",
        "    def balance(self):\n",
        "        return self._balance\n",
        "\n",
        "    @balance.setter\n",
        "    def balance(self, new_balance):\n",
        "        if new_balance < 0:\n",
        "            raise ValueError(\"Balance cannot be negative\")\n",
        "        self._balance = new_balance\n",
        "\n",
        "    def deposit(self, amount):\n",
        "        if amount <= 0:\n",
        "            raise ValueError(\"Deposit amount must be greater than 0\")\n",
        "        self.balance += amount\n",
        "\n",
        "    def withdraw(self, amount):\n",
        "        if amount <= 0:\n",
        "            raise ValueError(\"Withdrawal amount must be greater than 0\")\n",
        "        if amount > self.balance:\n",
        "            raise ValueError(\"Insufficient funds\")\n",
        "        self.balance -= amount\n",
        "\n",
        "    def __str__(self):\n",
        "        return f\"Account number: {self._account_number}\\nBalance: {self.balance}\"\n",
        "\n",
        "\n",
        "# Example usage\n",
        "account = BankAccount(\"UA1234567890\", 1000)\n",
        "\n",
        "print(f\"Current balance: {account.balance}\") \n",
        "\n",
        "account.deposit(500)\n",
        "print(f\"Balance after deposit: {account.balance}\") \n",
        "\n",
        "account.withdraw(300)\n",
        "print(f\"Balance after withdrawal: {account.balance}\") \n",
        "\n",
        "try:\n",
        "    account.withdraw(1500)\n",
        "except ValueError as e:\n",
        "    print(e) \n",
        "\n",
        "print(account) "
      ]
    },
    {
      "cell_type": "markdown",
      "metadata": {
        "id": "tIzL2SJTM8ft"
      },
      "source": [
        "9. (11б). Створіть клас Library, який містить список об'єктів типу Book. Реалізуйте методи для додавання книги, видалення книги та відображення списку книг."
      ]
    },
    {
      "cell_type": "code",
      "execution_count": 52,
      "metadata": {
        "id": "HWxfJKLtNAUZ"
      },
      "outputs": [
        {
          "name": "stdout",
          "output_type": "stream",
          "text": [
            "We added two books\n",
            "List of books in library:\n",
            "The Hitchhiker's Guide to the Galaxy by Douglas Adams (1979)\n",
            "Pride and Prejudice by Jane Austen (1813)\n",
            "We deleted a book\n",
            "List of books in library:\n",
            "Pride and Prejudice by Jane Austen (1813)\n"
          ]
        }
      ],
      "source": [
        "class Book:\n",
        "    def __init__(self, title, author, year):\n",
        "        self.title = title\n",
        "        self.author = author\n",
        "        self.year = year\n",
        "\n",
        "    def __str__(self):\n",
        "        return f\"{self.title} by {self.author} ({self.year})\"\n",
        "\n",
        "\n",
        "class Library:\n",
        "    def __init__(self):\n",
        "        self.books = []\n",
        "\n",
        "    def add_book(self, book):\n",
        "        if not isinstance(book, Book):\n",
        "            raise ValueError(\"Invalid book object\")\n",
        "        self.books.append(book)\n",
        "\n",
        "    def remove_book(self, book):\n",
        "        if not isinstance(book, Book):\n",
        "            raise ValueError(\"Invalid book object\")\n",
        "        if book not in self.books:\n",
        "            raise ValueError(\"Book not found in library\")\n",
        "        self.books.remove(book)\n",
        "\n",
        "    def list_books(self):\n",
        "        print(\"List of books in library:\")\n",
        "        for book in self.books:\n",
        "            print(book)\n",
        "\n",
        "\n",
        "# Приклад використання\n",
        "library = Library()\n",
        "\n",
        "book1 = Book(\"The Hitchhiker's Guide to the Galaxy\", \"Douglas Adams\", 1979)\n",
        "book2 = Book(\"Pride and Prejudice\", \"Jane Austen\", 1813)\n",
        "\n",
        "print(\"We added two books\")\n",
        "library.add_book(book1)\n",
        "library.add_book(book2)\n",
        "\n",
        "library.list_books()\n",
        "\n",
        "print(\"We deleted a book\")\n",
        "library.remove_book(book1)\n",
        "\n",
        "library.list_books()"
      ]
    },
    {
      "cell_type": "markdown",
      "metadata": {
        "id": "lmV8pAwwNIqu"
      },
      "source": [
        "10. (13б). Створіть клас Person з атрибутами name та age. Створіть ще один клас Employee з такими атрибутами, як department та salary. Створіть клас Manager, який успадковує обидва класи Person та Employee. Продемонструйте використання множинної спадковості, створивши обʼєкт класу Manager та отримавши mro для цього класу."
      ]
    },
    {
      "cell_type": "code",
      "execution_count": 53,
      "metadata": {
        "id": "R49grKlWNPeN"
      },
      "outputs": [
        {
          "name": "stdout",
          "output_type": "stream",
          "text": [
            "Name: John Doe\n",
            "Age: 35\n",
            "Department: Sales\n",
            "Salary: 100000\n",
            "MRO: (<class '__main__.Manager'>, <class '__main__.Person'>, <class '__main__.Employee'>, <class 'object'>)\n"
          ]
        }
      ],
      "source": [
        "class Person:\n",
        "    def __init__(self, name, age):\n",
        "        self.name = name\n",
        "        self.age = age\n",
        "\n",
        "class Employee:\n",
        "    def __init__(self, department, salary):\n",
        "        self.department = department\n",
        "        self.salary = salary\n",
        "\n",
        "class Manager(Person, Employee):\n",
        "    def __init__(self, name, age, department, salary):\n",
        "        super().__init__(name, age)\n",
        "        Employee.__init__(self, department, salary)\n",
        "\n",
        "manager = Manager(\"John Doe\", 35, \"Sales\", 100000)\n",
        "\n",
        "print(f\"Name: {manager.name}\")\n",
        "print(f\"Age: {manager.age}\")\n",
        "print(f\"Department: {manager.department}\")\n",
        "print(f\"Salary: {manager.salary}\")\n",
        "\n",
        "print(f\"MRO: {manager.__class__.__mro__}\")"
      ]
    },
    {
      "cell_type": "markdown",
      "metadata": {
        "id": "dIJyUiNBFG8G"
      },
      "source": [
        "# II. Iterator"
      ]
    },
    {
      "cell_type": "markdown",
      "metadata": {
        "id": "13vsm0NyKIzL"
      },
      "source": [
        "11. (4б). Визначте рядок(str) з 4ма різними за значенням символами. Створіть ітератор на основі цього рядка. Викличте 5 разів функцію next на ітераторі, 4ри перших з них огорніть у ф-цію print()."
      ]
    },
    {
      "cell_type": "code",
      "execution_count": 58,
      "metadata": {
        "id": "81ntabAkKuz-"
      },
      "outputs": [
        {
          "name": "stdout",
          "output_type": "stream",
          "text": [
            "a\n",
            "b\n",
            "c\n",
            "d\n"
          ]
        },
        {
          "ename": "StopIteration",
          "evalue": "",
          "output_type": "error",
          "traceback": [
            "\u001b[0;31m---------------------------------------------------------------------------\u001b[0m",
            "\u001b[0;31mStopIteration\u001b[0m                             Traceback (most recent call last)",
            "\u001b[1;32m/Users/valeriia/Downloads/python_practice_5.ipynb Cell 24\u001b[0m line \u001b[0;36m9\n\u001b[1;32m      <a href='vscode-notebook-cell:/Users/valeriia/Downloads/python_practice_5.ipynb#X32sZmlsZQ%3D%3D?line=6'>7</a>\u001b[0m \u001b[39mprint\u001b[39m(\u001b[39mnext\u001b[39m(iterator))\n\u001b[1;32m      <a href='vscode-notebook-cell:/Users/valeriia/Downloads/python_practice_5.ipynb#X32sZmlsZQ%3D%3D?line=7'>8</a>\u001b[0m \u001b[39mprint\u001b[39m(\u001b[39mnext\u001b[39m(iterator))\n\u001b[0;32m----> <a href='vscode-notebook-cell:/Users/valeriia/Downloads/python_practice_5.ipynb#X32sZmlsZQ%3D%3D?line=8'>9</a>\u001b[0m \u001b[39mnext\u001b[39;49m(iterator)\n",
            "\u001b[0;31mStopIteration\u001b[0m: "
          ]
        }
      ],
      "source": [
        "str = \"abcd\"\n",
        "\n",
        "iterator = iter(str)\n",
        "\n",
        "print(next(iterator))\n",
        "print(next(iterator))\n",
        "print(next(iterator))\n",
        "print(next(iterator))\n",
        "next(iterator)"
      ]
    },
    {
      "cell_type": "markdown",
      "metadata": {
        "id": "aekWHGXOLRsO"
      },
      "source": [
        "А що якщо викликати цю ж функцію на рядку?"
      ]
    },
    {
      "cell_type": "code",
      "execution_count": 59,
      "metadata": {
        "id": "mxATGsErLV1i"
      },
      "outputs": [
        {
          "ename": "TypeError",
          "evalue": "'str' object is not an iterator",
          "output_type": "error",
          "traceback": [
            "\u001b[0;31m---------------------------------------------------------------------------\u001b[0m",
            "\u001b[0;31mTypeError\u001b[0m                                 Traceback (most recent call last)",
            "\u001b[1;32m/Users/valeriia/Downloads/python_practice_5.ipynb Cell 26\u001b[0m line \u001b[0;36m4\n\u001b[1;32m      <a href='vscode-notebook-cell:/Users/valeriia/Downloads/python_practice_5.ipynb#X34sZmlsZQ%3D%3D?line=0'>1</a>\u001b[0m string \u001b[39m=\u001b[39m \u001b[39m\"\u001b[39m\u001b[39mabcd\u001b[39m\u001b[39m\"\u001b[39m\n\u001b[1;32m      <a href='vscode-notebook-cell:/Users/valeriia/Downloads/python_practice_5.ipynb#X34sZmlsZQ%3D%3D?line=2'>3</a>\u001b[0m \u001b[39mfor\u001b[39;00m _ \u001b[39min\u001b[39;00m \u001b[39mrange\u001b[39m(\u001b[39m5\u001b[39m):\n\u001b[0;32m----> <a href='vscode-notebook-cell:/Users/valeriia/Downloads/python_practice_5.ipynb#X34sZmlsZQ%3D%3D?line=3'>4</a>\u001b[0m     \u001b[39mprint\u001b[39m(\u001b[39mnext\u001b[39;49m(string))\n",
            "\u001b[0;31mTypeError\u001b[0m: 'str' object is not an iterator"
          ]
        }
      ],
      "source": [
        "string = \"abcd\"\n",
        "\n",
        "for _ in range(5):\n",
        "    print(next(string))\n"
      ]
    },
    {
      "cell_type": "markdown",
      "metadata": {
        "id": "XwtMEopwJ4pH"
      },
      "source": [
        " 12. (5б). Опишіть своїми словами в одному реченні, як ви розумієте різницю між ітерабельними обʼєктами та ітераторами (можна на прикладі)."
      ]
    },
    {
      "cell_type": "markdown",
      "metadata": {
        "id": "-sHrODc3KFn8"
      },
      "source": [
        "Ітерабельні об'єкти - це ті, які можна послідовно обійти, отримуючи їхні елементи один за одним (наприклад, список, рядок), a ітератор - це об'єкт, який пам'ятає поточну позицію в ітерабельному об'єкті й використовується для послідовного доступу до його елементів."
      ]
    },
    {
      "cell_type": "markdown",
      "metadata": {
        "id": "E9qJWmNbK8Gl"
      },
      "source": [
        "13. (11б). Створіть клас, що має визначений Iterator Protocol та при кожному виклику next повертає літери англійської абетки, поки вони не вичерпаються."
      ]
    },
    {
      "cell_type": "code",
      "execution_count": 57,
      "metadata": {
        "id": "cqx-g_RsLo6I"
      },
      "outputs": [
        {
          "name": "stdout",
          "output_type": "stream",
          "text": [
            "a\n",
            "b\n",
            "c\n",
            "d\n",
            "e\n",
            "f\n",
            "g\n",
            "h\n",
            "i\n",
            "j\n",
            "k\n",
            "l\n",
            "m\n",
            "n\n",
            "o\n",
            "p\n",
            "q\n",
            "r\n",
            "s\n",
            "t\n",
            "u\n",
            "v\n",
            "w\n",
            "x\n",
            "y\n",
            "z\n"
          ]
        }
      ],
      "source": [
        "class AlphabetIterator:\n",
        "    def __init__(self):\n",
        "        self._index = -1\n",
        "\n",
        "    def __iter__(self):\n",
        "        return self\n",
        "\n",
        "    def __next__(self):\n",
        "        self._index += 1\n",
        "        if self._index >= len(alphabet):\n",
        "            raise StopIteration\n",
        "        return alphabet[self._index]\n",
        "\n",
        "\n",
        "alphabet = \"abcdefghijklmnopqrstuvwxyz\"\n",
        "\n",
        "# Приклад використання\n",
        "iterator = AlphabetIterator()\n",
        "\n",
        "for letter in iterator:\n",
        "    print(letter)"
      ]
    },
    {
      "cell_type": "markdown",
      "metadata": {
        "id": "Z3E3S_s1Fv7-"
      },
      "source": [
        "# Вітаю! Ви велика(ий) молодець, що впоралась(вся). Похваліть себе та побалуйте чимось приємним. Я Вами пишаюся."
      ]
    }
  ],
  "metadata": {
    "colab": {
      "provenance": []
    },
    "kernelspec": {
      "display_name": "Python 3",
      "name": "python3"
    },
    "language_info": {
      "codemirror_mode": {
        "name": "ipython",
        "version": 3
      },
      "file_extension": ".py",
      "mimetype": "text/x-python",
      "name": "python",
      "nbconvert_exporter": "python",
      "pygments_lexer": "ipython3",
      "version": "3.9.6"
    }
  },
  "nbformat": 4,
  "nbformat_minor": 0
}
